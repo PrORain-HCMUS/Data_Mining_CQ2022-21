{
 "cells": [
  {
   "cell_type": "code",
   "execution_count": null,
   "metadata": {},
   "outputs": [],
   "source": [
    "from collections import defaultdict"
   ]
  },
  {
   "cell_type": "code",
   "execution_count": 26,
   "metadata": {},
   "outputs": [],
   "source": [
    "# Dữ liệu mẫu\n",
    "transactions = {\n",
    "    'T1': {'A', 'B'},\n",
    "    'T2': {'A', 'B', 'C'},\n",
    "    'T3': {'A'},\n",
    "    'T4': {'B', 'C'}\n",
    "}\n",
    "minsup = 2"
   ]
  },
  {
   "cell_type": "code",
   "execution_count": 27,
   "metadata": {},
   "outputs": [],
   "source": [
    "# Chuyển đổi dữ liệu sang định dạng dọc (tid-list)\n",
    "def build_vertical_db(transactions):\n",
    "    vertical_db = defaultdict(set)\n",
    "    for tid, items in transactions.items():\n",
    "        for item in items:\n",
    "            vertical_db[item].add(tid)\n",
    "    return vertical_db\n",
    "\n",
    "# Tính Diffset\n",
    "def compute_diffset(parent_tidlist, child_tidlist):\n",
    "    return parent_tidlist - child_tidlist\n",
    "\n",
    "# Thuật toán dECLAT\n",
    "def dECLAT(vertical_db, minsup, prefix=None, parent_diffset=None, parent_support=None):\n",
    "    if prefix is None:\n",
    "        prefix = set()\n",
    "    frequent_itemsets = []\n",
    "\n",
    "    P = {item: tids for item, tids in vertical_db.items() if len(tids) >= minsup}\n",
    "\n",
    "    for item in sorted(P.keys()):\n",
    "        new_prefix = prefix | {item}\n",
    "        tidlist = P[item]\n",
    "        support = len(tidlist)\n",
    "        diffset = set()  # Đảm bảo luôn có giá trị mặc định\n",
    "        \n",
    "        # Tính diffset nếu có thông tin cha\n",
    "        if parent_diffset is not None and prefix:\n",
    "            parent_item = list(prefix)[0]\n",
    "            if parent_item in vertical_db:\n",
    "                diffset = compute_diffset(vertical_db[parent_item], tidlist)\n",
    "                support = parent_support - len(diffset)\n",
    "\n",
    "        if support >= minsup:\n",
    "            frequent_itemsets.append((new_prefix, support))\n",
    "            P_next = {k: P[k] for k in P if k > item and len(P[k] & tidlist) >= minsup}\n",
    "            sub_results = dECLAT(P_next, minsup, new_prefix, diffset, support)\n",
    "            frequent_itemsets.extend(sub_results)\n",
    "\n",
    "    return frequent_itemsets"
   ]
  },
  {
   "cell_type": "code",
   "execution_count": 28,
   "metadata": {},
   "outputs": [
    {
     "name": "stdout",
     "output_type": "stream",
     "text": [
      "Itemset: {'A'}, Support: 3\n",
      "Itemset: {'B', 'A'}, Support: 3\n",
      "Itemset: {'B'}, Support: 3\n",
      "Itemset: {'B', 'C'}, Support: 2\n",
      "Itemset: {'C'}, Support: 2\n"
     ]
    }
   ],
   "source": [
    "# Chạy dECLAT\n",
    "vertical_db = build_vertical_db(transactions)\n",
    "results = dECLAT(vertical_db, minsup)\n",
    "\n",
    "for itemset, sup in results:\n",
    "    print(f\"Itemset: {itemset}, Support: {sup}\")"
   ]
  },
  {
   "cell_type": "code",
   "execution_count": 29,
   "metadata": {},
   "outputs": [],
   "source": [
    "# Kiểm tra tính đóng\n",
    "def is_closed(itemset, support, vertical_db):\n",
    "    for item in vertical_db:\n",
    "        if item not in itemset:\n",
    "            superset_support = len(vertical_db[item] & set.intersection(*[vertical_db[i] for i in itemset]))\n",
    "            if superset_support == support:\n",
    "                return False\n",
    "    return True\n",
    "\n",
    "# Thuật toán dCHARM\n",
    "def dCHARM(vertical_db, minsup, prefix=None, parent_diffset=None, parent_support=None):\n",
    "    if prefix is None:\n",
    "        prefix = set()\n",
    "    closed_itemsets = []\n",
    "\n",
    "    P = {item: tids for item, tids in vertical_db.items() if len(tids) >= minsup}\n",
    "\n",
    "    for item in sorted(P.keys()):\n",
    "        new_prefix = prefix | {item}\n",
    "        tidlist = P[item]\n",
    "        support = len(tidlist)\n",
    "        diffset = set()  # Đảm bảo diffset luôn có giá trị mặc định\n",
    "\n",
    "        if parent_diffset is not None and prefix:\n",
    "            parent_item = list(prefix)[0]\n",
    "            if parent_item in vertical_db:\n",
    "                diffset = compute_diffset(vertical_db[parent_item], tidlist)\n",
    "                support = parent_support - len(diffset)\n",
    "\n",
    "        if support >= minsup and is_closed(new_prefix, support, vertical_db):\n",
    "            closed_itemsets.append((new_prefix, support))\n",
    "            P_next = {k: P[k] for k in P if k > item and len(P[k] & tidlist) >= minsup}\n",
    "            sub_results = dCHARM(P_next, minsup, new_prefix, diffset, support)\n",
    "            closed_itemsets.extend(sub_results)\n",
    "\n",
    "    return closed_itemsets\n",
    "\n"
   ]
  },
  {
   "cell_type": "code",
   "execution_count": 30,
   "metadata": {},
   "outputs": [
    {
     "name": "stdout",
     "output_type": "stream",
     "text": [
      "Closed Itemset: {'A'}, Support: 3\n",
      "Closed Itemset: {'B', 'A'}, Support: 3\n",
      "Closed Itemset: {'B'}, Support: 3\n",
      "Closed Itemset: {'B', 'C'}, Support: 2\n"
     ]
    }
   ],
   "source": [
    "# Chạy dCHARM\n",
    "vertical_db = build_vertical_db(transactions)\n",
    "results = dCHARM(vertical_db, minsup)\n",
    "\n",
    "for itemset, sup in results:\n",
    "    print(f\"Closed Itemset: {itemset}, Support: {sup}\")"
   ]
  },
  {
   "cell_type": "code",
   "execution_count": null,
   "metadata": {},
   "outputs": [],
   "source": [
    "# Chuyển đổi dữ liệu sang định dạng dọc\n",
    "def build_vertical_db(transactions):\n",
    "    vertical_db = defaultdict(set)\n",
    "    for tid, items in transactions.items():\n",
    "        for item in items:\n",
    "            vertical_db[item].add(tid)\n",
    "    return vertical_db\n",
    "\n",
    "# Kiểm tra tính tối đa\n",
    "def is_maximal(itemset, support, vertical_db, maximal_sets, minsup):\n",
    "    for m in maximal_sets:\n",
    "        if itemset.issubset(m[0]):  # So sánh với tập itemset đã lưu\n",
    "            return False\n",
    "    for item in vertical_db:\n",
    "        if item not in itemset:\n",
    "            superset = itemset | {item}\n",
    "            sup = len(set.intersection(*[vertical_db[i] for i in superset]))\n",
    "            if sup >= minsup:\n",
    "                return False\n",
    "    return True\n",
    "\n",
    "# Tính Diffset\n",
    "def compute_diffset(parent_tidlist, child_tidlist):\n",
    "    return parent_tidlist - child_tidlist\n",
    "\n",
    "# Thuật toán dGenMax\n",
    "def dGenMax(vertical_db, minsup, prefix=None, parent_diffset=None, parent_support=None):\n",
    "    if prefix is None:\n",
    "        prefix = set()\n",
    "    maximal_itemsets = []\n",
    "    \n",
    "    P = {item: tids for item, tids in vertical_db.items() if len(tids) >= minsup}\n",
    "    \n",
    "    for item in sorted(P.keys()):\n",
    "        new_prefix = prefix | {item}\n",
    "        tidlist = P[item]\n",
    "        support = len(tidlist)\n",
    "        diffset = set()  # Đảm bảo diffset luôn có giá trị mặc định\n",
    "        \n",
    "        if parent_diffset is not None and prefix:\n",
    "            parent_item = list(prefix)[0]\n",
    "            if parent_item in vertical_db:\n",
    "                diffset = compute_diffset(vertical_db[parent_item], tidlist)\n",
    "                support = parent_support - len(diffset)\n",
    "\n",
    "        if support >= minsup:\n",
    "            P_next = {k: P[k] for k in P if k > item and len(P[k] & tidlist) >= minsup}\n",
    "            sub_results = dGenMax(P_next, minsup, new_prefix, diffset, support)\n",
    "            maximal_itemsets.extend(sub_results)\n",
    "            \n",
    "            if is_maximal(new_prefix, support, vertical_db, maximal_itemsets, minsup):\n",
    "                maximal_itemsets.append((new_prefix, support))\n",
    "    \n",
    "    return maximal_itemsets"
   ]
  },
  {
   "cell_type": "code",
   "execution_count": 32,
   "metadata": {},
   "outputs": [
    {
     "name": "stdout",
     "output_type": "stream",
     "text": [
      "Maximal Itemset: {'B', 'A'}, Support: 3\n",
      "Maximal Itemset: {'B', 'C'}, Support: 2\n"
     ]
    }
   ],
   "source": [
    "# Chạy dGenMax\n",
    "vertical_db = build_vertical_db(transactions)\n",
    "results = dGenMax(vertical_db, minsup)\n",
    "for itemset, sup in results:\n",
    "    print(f\"Maximal Itemset: {itemset}, Support: {sup}\")"
   ]
  }
 ],
 "metadata": {
  "kernelspec": {
   "display_name": "Python 3",
   "language": "python",
   "name": "python3"
  },
  "language_info": {
   "codemirror_mode": {
    "name": "ipython",
    "version": 3
   },
   "file_extension": ".py",
   "mimetype": "text/x-python",
   "name": "python",
   "nbconvert_exporter": "python",
   "pygments_lexer": "ipython3",
   "version": "3.11.9"
  }
 },
 "nbformat": 4,
 "nbformat_minor": 2
}
